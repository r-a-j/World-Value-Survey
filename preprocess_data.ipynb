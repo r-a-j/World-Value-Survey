{
 "cells": [
  {
   "cell_type": "code",
   "execution_count": 1,
   "metadata": {},
   "outputs": [],
   "source": [
    "import pandas as pd"
   ]
  },
  {
   "cell_type": "markdown",
   "metadata": {},
   "source": [
    "### Preprocess Wave 7 Data - Filter required variables \n",
    "This data will answer Question 1 and Question 2"
   ]
  },
  {
   "cell_type": "code",
   "execution_count": 2,
   "metadata": {},
   "outputs": [],
   "source": [
    "# Read file as a DataFrame\n",
    "wave7_csv = \"data/wave_7.csv\"\n",
    "wave7 = pd.read_csv(wave7_csv, low_memory=False)"
   ]
  },
  {
   "cell_type": "code",
   "execution_count": 3,
   "metadata": {},
   "outputs": [
    {
     "name": "stdout",
     "output_type": "stream",
     "text": [
      "   B_COUNTRY  A_YEAR  Q65  Q67  Q69  Q70  Q71  Q72  Q74  Q76  Q250  Q275  \\\n",
      "0         20    2018   -4    1    1    1    1    1    1    1     8     3   \n",
      "1         20    2018   -4    3    3    3    4    4    3    3    10     7   \n",
      "2         20    2018   -4    4    2    2    3    3    3    3    10     7   \n",
      "3         20    2018   -4    3    3    3    3    3    3    3     7     2   \n",
      "4         20    2018   -4    3    2    2    2    3    3    3     8     2   \n",
      "\n",
      "   Q262  Q288  Q260  Q235  Q236  Q209  Q212  \n",
      "0    60     5     2     4     4     2     3  \n",
      "1    47     9     1     4     4     1     2  \n",
      "2    48     5     1     4     2     1     2  \n",
      "3    62     4     2     3     2     2     2  \n",
      "4    49     4     1     3     3     1     1  \n"
     ]
    }
   ],
   "source": [
    "# Extract columns of interest\n",
    "columns_to_extract = [\n",
    "    'B_COUNTRY', \n",
    "    'A_YEAR', \n",
    "    'Q65', \n",
    "    'Q67', \n",
    "    'Q69', \n",
    "    'Q70', \n",
    "    'Q71', \n",
    "    'Q72', \n",
    "    'Q74', \n",
    "    'Q76', \n",
    "    'Q250', \n",
    "    'Q275', \n",
    "    'Q262', \n",
    "    'Q288', \n",
    "    'Q260', \n",
    "    'Q235', \n",
    "    'Q236', \n",
    "    'Q209', \n",
    "    'Q212', \n",
    "    ]\n",
    "extracted_wave_7_data = wave7[columns_to_extract]\n",
    "print(extracted_wave_7_data.head())"
   ]
  },
  {
   "cell_type": "code",
   "execution_count": 4,
   "metadata": {},
   "outputs": [
    {
     "name": "stdout",
     "output_type": "stream",
     "text": [
      "   Country  Year  C Armed forces  C Television  C Police  C Courts  \\\n",
      "0       20  2018              -4             1         1         1   \n",
      "1       20  2018              -4             3         3         3   \n",
      "2       20  2018              -4             4         2         2   \n",
      "3       20  2018              -4             3         3         3   \n",
      "4       20  2018              -4             3         2         2   \n",
      "\n",
      "   C Government  C Political parties  C Civil services  C Elections  \\\n",
      "0             1                    1                 1            1   \n",
      "1             4                    4                 3            3   \n",
      "2             3                    3                 3            3   \n",
      "3             3                    3                 3            3   \n",
      "4             2                    3                 3            3   \n",
      "\n",
      "   Importance of democracy  Highest educational level  Age  Scale of incomes  \\\n",
      "0                        8                          3   60                 5   \n",
      "1                       10                          7   47                 9   \n",
      "2                       10                          7   48                 5   \n",
      "3                        7                          2   62                 4   \n",
      "4                        8                          2   49                 4   \n",
      "\n",
      "   Sex  Strong Leader  Expert Non Govt Person  Signing a petition  \\\n",
      "0    2              4                       4                   2   \n",
      "1    1              4                       4                   1   \n",
      "2    1              4                       2                   1   \n",
      "3    2              3                       2                   2   \n",
      "4    1              3                       3                   1   \n",
      "\n",
      "   Joining unofficial strikes  \n",
      "0                           3  \n",
      "1                           2  \n",
      "2                           2  \n",
      "3                           2  \n",
      "4                           1  \n"
     ]
    },
    {
     "name": "stderr",
     "output_type": "stream",
     "text": [
      "/tmp/ipykernel_22511/579107987.py:2: SettingWithCopyWarning: \n",
      "A value is trying to be set on a copy of a slice from a DataFrame\n",
      "\n",
      "See the caveats in the documentation: https://pandas.pydata.org/pandas-docs/stable/user_guide/indexing.html#returning-a-view-versus-a-copy\n",
      "  extracted_wave_7_data.rename(columns = {\n"
     ]
    }
   ],
   "source": [
    "# Rename the columns for better readability\n",
    "extracted_wave_7_data.rename(columns = {\n",
    "    'B_COUNTRY' : 'Country',\n",
    "    'A_YEAR' : 'Year',\n",
    "    'Q65' : 'C Armed forces',\n",
    "    'Q69' : 'C Police',\n",
    "    'Q70' : 'C Courts',\n",
    "    'Q71' : 'C Government',\n",
    "    'Q72' : 'C Political parties',\n",
    "    'Q74' : 'C Civil services',\n",
    "    'Q67' : 'C Television',\n",
    "    'Q76' : 'C Elections',\n",
    "    'Q250' : 'Importance of democracy',\n",
    "    'Q275' : 'Highest educational level',\n",
    "    'Q262' : 'Age',\n",
    "    'Q288' : 'Scale of incomes',\n",
    "    'Q260' : 'Sex',\n",
    "    'Q235' : 'Strong Leader',\n",
    "    'Q236' : 'Expert Non Govt Person',\n",
    "    'Q209' : 'Signing a petition',\n",
    "    'Q212' : 'Joining unofficial strikes',\n",
    "}, inplace=True)\n",
    "\n",
    "print(extracted_wave_7_data.head())"
   ]
  },
  {
   "cell_type": "code",
   "execution_count": 5,
   "metadata": {},
   "outputs": [],
   "source": [
    "# Save the extracted data to a new file\n",
    "output_path = \"data/preprocessed/filtered_wave_7.csv\"\n",
    "extracted_wave_7_data.to_csv(output_path, index=False)"
   ]
  },
  {
   "cell_type": "markdown",
   "metadata": {},
   "source": [
    "### Extract data for time series analysis\n",
    "\n",
    "This data will answer question 3"
   ]
  },
  {
   "cell_type": "code",
   "execution_count": 6,
   "metadata": {},
   "outputs": [],
   "source": [
    "# Read the time series data\n",
    "time_series_csv = \"data/time_series_1981_2022.csv\"\n",
    "time_series = pd.read_csv(time_series_csv, low_memory=False)"
   ]
  },
  {
   "cell_type": "code",
   "execution_count": 7,
   "metadata": {},
   "outputs": [
    {
     "name": "stdout",
     "output_type": "stream",
     "text": [
      "False\n"
     ]
    }
   ],
   "source": [
    "# Filter time series for only WVS\n",
    "filtered_time_series = time_series[time_series['S001'] == 2]\n",
    "\n",
    "# The result fase means that we have all data for WVS\n",
    "\n",
    "print((filtered_time_series['S001'] == 1).any())"
   ]
  },
  {
   "cell_type": "code",
   "execution_count": 8,
   "metadata": {},
   "outputs": [
    {
     "name": "stdout",
     "output_type": "stream",
     "text": [
      "   S001  S002VS  S003 COUNTRY_ALPHA  S020  E069_02  E069_06  E069_07  E069_08  \\\n",
      "0     2       3     8           ALB  1998        3        3        3        2   \n",
      "1     2       3     8           ALB  1998        3        3        3        3   \n",
      "2     2       3     8           ALB  1998        3        3        3        3   \n",
      "3     2       3     8           ALB  1998        2        2        2        2   \n",
      "4     2       3     8           ALB  1998        3        3        3        3   \n",
      "\n",
      "   E069_10  ...  E069_12  E069_17  E069_46  E069_49  E069_64  E069_65  E119  \\\n",
      "0        3  ...        3        3       -4       -4       -4       -4     1   \n",
      "1        3  ...        3        3       -4       -4       -4       -4     1   \n",
      "2        3  ...        3        3       -4       -4       -4       -4     1   \n",
      "3        3  ...        3        3       -4       -4       -4       -4     1   \n",
      "4        3  ...        3        3       -4       -4       -4       -4     1   \n",
      "\n",
      "   X025  X003  X047_WVS  \n",
      "0     3    18         5  \n",
      "1     4    18         4  \n",
      "2     2    24         3  \n",
      "3     3    26         6  \n",
      "4     2    30         3  \n",
      "\n",
      "[5 rows x 21 columns]\n"
     ]
    }
   ],
   "source": [
    "# Extract columns of interest\n",
    "columns_to_extract_time_series = [\n",
    "    'S001', \n",
    "    'S002VS', \n",
    "    'S003', \n",
    "    'COUNTRY_ALPHA', \n",
    "    'S020', \n",
    "    'E069_02', \n",
    "    'E069_06', \n",
    "    'E069_07', \n",
    "    'E069_08', \n",
    "    'E069_10', \n",
    "    'E069_11', \n",
    "    'E069_12', \n",
    "    'E069_17', \n",
    "    'E069_46', \n",
    "    'E069_49', \n",
    "    'E069_64', \n",
    "    'E069_65', \n",
    "    'E119',\n",
    "    'X025',\n",
    "    'X003',\n",
    "    'X047_WVS'\n",
    "]\n",
    "\n",
    "extracted_time_series_data = filtered_time_series[columns_to_extract_time_series]\n",
    "print(extracted_time_series_data.head())"
   ]
  },
  {
   "cell_type": "code",
   "execution_count": 9,
   "metadata": {},
   "outputs": [
    {
     "name": "stdout",
     "output_type": "stream",
     "text": [
      "   Study  WVS wave  Country Country name  Survey year  C Armed Forces   \\\n",
      "0      2         3        8          ALB         1998                3   \n",
      "1      2         3        8          ALB         1998                3   \n",
      "2      2         3        8          ALB         1998                3   \n",
      "3      2         3        8          ALB         1998                2   \n",
      "4      2         3        8          ALB         1998                3   \n",
      "\n",
      "   C Police  C Parliament  C Civil Services  C Television  ...  \\\n",
      "0         3             3                 2             3  ...   \n",
      "1         3             3                 3             3  ...   \n",
      "2         3             3                 3             3  ...   \n",
      "3         2             2                 2             3  ...   \n",
      "4         3             3                 3             3  ...   \n",
      "\n",
      "   C Political Parties  C Courts  C NGOs  C TV News  C Elections  \\\n",
      "0                    3         3      -4         -4           -4   \n",
      "1                    3         3      -4         -4           -4   \n",
      "2                    3         3      -4         -4           -4   \n",
      "3                    3         3      -4         -4           -4   \n",
      "4                    3         3      -4         -4           -4   \n",
      "\n",
      "   C International Criminal Court  Government order vs. freedom  \\\n",
      "0                              -4                             1   \n",
      "1                              -4                             1   \n",
      "2                              -4                             1   \n",
      "3                              -4                             1   \n",
      "4                              -4                             1   \n",
      "\n",
      "   Highest educational level  Age  Scale of incomes  \n",
      "0                          3   18                 5  \n",
      "1                          4   18                 4  \n",
      "2                          2   24                 3  \n",
      "3                          3   26                 6  \n",
      "4                          2   30                 3  \n",
      "\n",
      "[5 rows x 21 columns]\n"
     ]
    },
    {
     "name": "stderr",
     "output_type": "stream",
     "text": [
      "/tmp/ipykernel_22511/4209836038.py:2: SettingWithCopyWarning: \n",
      "A value is trying to be set on a copy of a slice from a DataFrame\n",
      "\n",
      "See the caveats in the documentation: https://pandas.pydata.org/pandas-docs/stable/user_guide/indexing.html#returning-a-view-versus-a-copy\n",
      "  extracted_time_series_data.rename(columns = {\n"
     ]
    }
   ],
   "source": [
    "# Rename the columns for better readability\n",
    "extracted_time_series_data.rename(columns = {\n",
    "    'S001' : 'Study',\n",
    "    'S002VS' : 'WVS wave',\n",
    "    'S003' : 'Country',\n",
    "    'COUNTRY_ALPHA': 'Country name',\n",
    "    'S020': 'Survey year',\n",
    "    'E069_02': 'C Armed Forces ',\n",
    "    'E069_06': 'C Police',\n",
    "    'E069_07': 'C Parliament',\n",
    "    'E069_08': 'C Civil Services',\n",
    "    'E069_10': 'C Television',\n",
    "    'E069_11': 'C Government',\n",
    "    'E069_12': 'C Political Parties',\n",
    "    'E069_17':'C Courts',\n",
    "    'E069_46': 'C NGOs',\n",
    "    'E069_49': 'C TV News',\n",
    "    'E069_64': 'C Elections',\n",
    "    'E069_65': 'C International Criminal Court',\n",
    "    'E119' : 'Government order vs. freedom',\n",
    "    'X025':'Highest educational level',\n",
    "    'X003':'Age',\n",
    "    'X047_WVS':'Scale of incomes',\n",
    "}, inplace=True)\n",
    "\n",
    "print(extracted_time_series_data.head())"
   ]
  },
  {
   "cell_type": "code",
   "execution_count": 10,
   "metadata": {},
   "outputs": [],
   "source": [
    "# Save the extracted data to a new file\n",
    "output_path = \"data/preprocessed/filtered_time_series_1981_2022.csv\"\n",
    "extracted_time_series_data.to_csv(output_path, index=False)"
   ]
  }
 ],
 "metadata": {
  "kernelspec": {
   "display_name": "WVS",
   "language": "python",
   "name": "python3"
  },
  "language_info": {
   "codemirror_mode": {
    "name": "ipython",
    "version": 3
   },
   "file_extension": ".py",
   "mimetype": "text/x-python",
   "name": "python",
   "nbconvert_exporter": "python",
   "pygments_lexer": "ipython3",
   "version": "3.12.2"
  }
 },
 "nbformat": 4,
 "nbformat_minor": 2
}
