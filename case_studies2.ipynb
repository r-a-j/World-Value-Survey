{
 "cells": [
  {
   "cell_type": "markdown",
   "metadata": {},
   "source": [
    "### Imports"
   ]
  },
  {
   "cell_type": "code",
   "execution_count": 20,
   "metadata": {},
   "outputs": [],
   "source": [
    "import pandas as pd\n",
    "import numpy as np\n",
    "import seaborn as sns\n",
    "import matplotlib.pyplot as plt\n",
    "import statsmodels.api as sm\n",
    "import statsmodels.formula.api as smf\n",
    "from statsmodels.miscmodels.ordinal_model import OrderedModel"
   ]
  },
  {
   "cell_type": "markdown",
   "metadata": {},
   "source": [
    "### Q1. What are the primary cultural values associated with trust in political institutions?"
   ]
  },
  {
   "cell_type": "code",
   "execution_count": 21,
   "metadata": {},
   "outputs": [],
   "source": [
    "wave7_csv = \"data/preprocessed/filtered_wave_7.csv\"\n",
    "df = pd.read_csv(wave7_csv, low_memory=False)"
   ]
  },
  {
   "cell_type": "code",
   "execution_count": 22,
   "metadata": {},
   "outputs": [],
   "source": [
    "g8_codes = [840, 124, 250, 276, 380, 392, 643, 826]\n",
    "df_g8 = df[df[\"Country\"].isin(g8_codes)]"
   ]
  },
  {
   "cell_type": "code",
   "execution_count": 16,
   "metadata": {},
   "outputs": [],
   "source": [
    "# Clean / Recode New Variables\n",
    "valid_conf = [1,2,3,4]\n",
    "valid_demo = list(range(1, 11))  # 1..10\n",
    "valid_educ = list(range(0, 9))   # 0..8\n",
    "valid_income = list(range(1, 11)) # 1..10\n",
    "\n",
    "df_clean = df_g8[\n",
    "    df_g8[\"C Government\"].isin(valid_conf) &\n",
    "    df_g8[\"C Armed forces\"].isin(valid_conf) &\n",
    "    df_g8[\"C Police\"].isin(valid_conf) &\n",
    "    df_g8[\"C Courts\"].isin(valid_conf) &\n",
    "    df_g8[\"C Political parties\"].isin(valid_conf) &\n",
    "    df_g8[\"C Civil services\"].isin(valid_conf) &\n",
    "    df_g8[\"C Television\"].isin(valid_conf) &\n",
    "    df_g8[\"C Elections\"].isin(valid_conf) &\n",
    "    df_g8[\"Importance of democracy\"].isin(valid_demo) &\n",
    "    df_g8[\"Highest educational level\"].isin(valid_educ) &\n",
    "    df_g8[\"Scale of incomes\"].isin(valid_income) &\n",
    "    (df_g8[\"Age\"] > 0)  # Age must be positive\n",
    "].copy()\n",
    "\n",
    "# Now rename columns for convenience\n",
    "df_clean = df_clean.rename(columns={\n",
    "    \"C Government\": \"gov_conf\",\n",
    "    \"C Armed forces\": \"armed_conf\",\n",
    "    \"C Television\": \"tv_conf\",\n",
    "    \"C Police\": \"police_conf\",\n",
    "    \"C Courts\": \"courts_conf\",\n",
    "    \"C Political parties\": \"party_conf\",\n",
    "    \"C Civil services\": \"civil_conf\",\n",
    "    \"C Elections\": \"elect_conf\",\n",
    "    \"Importance of democracy\": \"demo_import\",\n",
    "    \"Highest educational level\": \"educ_level\",\n",
    "    \"Scale of incomes\": \"income_scale\"\n",
    "})\n"
   ]
  },
  {
   "cell_type": "code",
   "execution_count": 18,
   "metadata": {},
   "outputs": [],
   "source": [
    "# Optionally Scale Only Certain Variables\n",
    "from sklearn.preprocessing import StandardScaler\n",
    "\n",
    "scaler = StandardScaler()\n",
    "df_clean[\"Age_scaled\"] = scaler.fit_transform(df_clean[[\"Age\"]])\n",
    "df_clean[\"demo_import_scaled\"] = scaler.fit_transform(df_clean[[\"demo_import\"]])\n"
   ]
  },
  {
   "cell_type": "code",
   "execution_count": null,
   "metadata": {},
   "outputs": [],
   "source": [
    "df_usa = df_clean[df_clean[\"Country\"] == 840].copy()\n",
    "print(\"Number of rows for USA:\", len(df_usa))\n",
    "df_usa.head()"
   ]
  },
  {
   "cell_type": "code",
   "execution_count": null,
   "metadata": {},
   "outputs": [],
   "source": []
  },
  {
   "cell_type": "code",
   "execution_count": 19,
   "metadata": {},
   "outputs": [
    {
     "name": "stdout",
     "output_type": "stream",
     "text": [
      "                             OrderedModel Results                             \n",
      "==============================================================================\n",
      "Dep. Variable:               gov_conf   Log-Likelihood:                -11155.\n",
      "Model:                   OrderedModel   AIC:                         2.234e+04\n",
      "Method:            Maximum Likelihood   BIC:                         2.244e+04\n",
      "Date:                Fri, 24 Jan 2025                                         \n",
      "Time:                        15:14:02                                         \n",
      "No. Observations:               11668                                         \n",
      "Df Residuals:                   11654                                         \n",
      "Df Model:                          11                                         \n",
      "================================================================================\n",
      "                   coef    std err          z      P>|z|      [0.025      0.975]\n",
      "--------------------------------------------------------------------------------\n",
      "party_conf       1.4209      0.036     39.251      0.000       1.350       1.492\n",
      "elect_conf       0.4770      0.028     17.136      0.000       0.422       0.532\n",
      "armed_conf       0.3028      0.027     11.118      0.000       0.249       0.356\n",
      "tv_conf         -0.0099      0.029     -0.339      0.735      -0.067       0.047\n",
      "police_conf      0.2745      0.031      8.746      0.000       0.213       0.336\n",
      "courts_conf      0.2006      0.032      6.338      0.000       0.139       0.263\n",
      "civil_conf       0.4898      0.032     15.214      0.000       0.427       0.553\n",
      "demo_import      0.0737      0.011      7.006      0.000       0.053       0.094\n",
      "educ_level      -0.0248      0.011     -2.174      0.030      -0.047      -0.002\n",
      "Age              0.0002      0.001      0.199      0.842      -0.002       0.002\n",
      "income_scale     0.0318      0.010      3.281      0.001       0.013       0.051\n",
      "1/2              5.2151      0.173     30.161      0.000       4.876       5.554\n",
      "2/3              1.1663      0.015     76.494      0.000       1.136       1.196\n",
      "3/4              0.9656      0.013     72.016      0.000       0.939       0.992\n",
      "================================================================================\n"
     ]
    }
   ],
   "source": [
    "# Fit an Ordered Logit Model\n",
    "# Ordinal logistic approach with statsmodels\n",
    "feature_cols = [\n",
    "    \"party_conf\", \"elect_conf\", \"armed_conf\", \"tv_conf\",\n",
    "    \"police_conf\", \"courts_conf\", \"civil_conf\",\n",
    "    \"demo_import\", \"educ_level\", \"Age\", \"income_scale\"\n",
    "]\n",
    "\n",
    "# Drop any row with NA in these columns (just in case)\n",
    "df_model = df_clean.dropna(subset=[\"gov_conf\"] + feature_cols)\n",
    "\n",
    "y = df_model[\"gov_conf\"]  # This must be an integer-coded ordinal\n",
    "X = df_model[feature_cols]\n",
    "\n",
    "# Build an OrderedModel with a logit (or probit) link\n",
    "mod = OrderedModel(\n",
    "    endog = y,\n",
    "    exog = X,\n",
    "    distr = 'logit'  # or 'probit'\n",
    ")\n",
    "\n",
    "res = mod.fit(method='bfgs', disp=False)  # bfgs or newton\n",
    "print(res.summary())\n"
   ]
  },
  {
   "cell_type": "code",
   "execution_count": 87,
   "metadata": {},
   "outputs": [
    {
     "name": "stdout",
     "output_type": "stream",
     "text": [
      "Number of rows for USA: 2458\n"
     ]
    },
    {
     "data": {
      "text/html": [
       "<div>\n",
       "<style scoped>\n",
       "    .dataframe tbody tr th:only-of-type {\n",
       "        vertical-align: middle;\n",
       "    }\n",
       "\n",
       "    .dataframe tbody tr th {\n",
       "        vertical-align: top;\n",
       "    }\n",
       "\n",
       "    .dataframe thead th {\n",
       "        text-align: right;\n",
       "    }\n",
       "</style>\n",
       "<table border=\"1\" class=\"dataframe\">\n",
       "  <thead>\n",
       "    <tr style=\"text-align: right;\">\n",
       "      <th></th>\n",
       "      <th>Country</th>\n",
       "      <th>Year</th>\n",
       "      <th>C Armed forces</th>\n",
       "      <th>C Television</th>\n",
       "      <th>C Police</th>\n",
       "      <th>C Courts</th>\n",
       "      <th>C Government</th>\n",
       "      <th>C Political parties</th>\n",
       "      <th>C Civil services</th>\n",
       "      <th>C Elections</th>\n",
       "      <th>Importance of democracy</th>\n",
       "    </tr>\n",
       "  </thead>\n",
       "  <tbody>\n",
       "    <tr>\n",
       "      <th>89769</th>\n",
       "      <td>840</td>\n",
       "      <td>2017</td>\n",
       "      <td>3</td>\n",
       "      <td>2</td>\n",
       "      <td>4</td>\n",
       "      <td>4</td>\n",
       "      <td>4</td>\n",
       "      <td>4</td>\n",
       "      <td>4</td>\n",
       "      <td>4</td>\n",
       "      <td>2</td>\n",
       "    </tr>\n",
       "    <tr>\n",
       "      <th>89770</th>\n",
       "      <td>840</td>\n",
       "      <td>2017</td>\n",
       "      <td>2</td>\n",
       "      <td>3</td>\n",
       "      <td>2</td>\n",
       "      <td>2</td>\n",
       "      <td>3</td>\n",
       "      <td>4</td>\n",
       "      <td>4</td>\n",
       "      <td>4</td>\n",
       "      <td>5</td>\n",
       "    </tr>\n",
       "    <tr>\n",
       "      <th>89771</th>\n",
       "      <td>840</td>\n",
       "      <td>2017</td>\n",
       "      <td>2</td>\n",
       "      <td>3</td>\n",
       "      <td>2</td>\n",
       "      <td>2</td>\n",
       "      <td>2</td>\n",
       "      <td>3</td>\n",
       "      <td>3</td>\n",
       "      <td>3</td>\n",
       "      <td>1</td>\n",
       "    </tr>\n",
       "    <tr>\n",
       "      <th>89772</th>\n",
       "      <td>840</td>\n",
       "      <td>2017</td>\n",
       "      <td>2</td>\n",
       "      <td>3</td>\n",
       "      <td>2</td>\n",
       "      <td>2</td>\n",
       "      <td>4</td>\n",
       "      <td>4</td>\n",
       "      <td>3</td>\n",
       "      <td>4</td>\n",
       "      <td>10</td>\n",
       "    </tr>\n",
       "    <tr>\n",
       "      <th>89773</th>\n",
       "      <td>840</td>\n",
       "      <td>2017</td>\n",
       "      <td>2</td>\n",
       "      <td>3</td>\n",
       "      <td>2</td>\n",
       "      <td>2</td>\n",
       "      <td>4</td>\n",
       "      <td>4</td>\n",
       "      <td>4</td>\n",
       "      <td>3</td>\n",
       "      <td>5</td>\n",
       "    </tr>\n",
       "  </tbody>\n",
       "</table>\n",
       "</div>"
      ],
      "text/plain": [
       "       Country  Year  C Armed forces  C Television  C Police  C Courts  \\\n",
       "89769      840  2017               3             2         4         4   \n",
       "89770      840  2017               2             3         2         2   \n",
       "89771      840  2017               2             3         2         2   \n",
       "89772      840  2017               2             3         2         2   \n",
       "89773      840  2017               2             3         2         2   \n",
       "\n",
       "       C Government  C Political parties  C Civil services  C Elections  \\\n",
       "89769             4                    4                 4            4   \n",
       "89770             3                    4                 4            4   \n",
       "89771             2                    3                 3            3   \n",
       "89772             4                    4                 3            4   \n",
       "89773             4                    4                 4            3   \n",
       "\n",
       "       Importance of democracy  \n",
       "89769                        2  \n",
       "89770                        5  \n",
       "89771                        1  \n",
       "89772                       10  \n",
       "89773                        5  "
      ]
     },
     "execution_count": 87,
     "metadata": {},
     "output_type": "execute_result"
    }
   ],
   "source": [
    "df_usa = df_g8_clean[df_g8_clean[\"Country\"] == 840].copy()\n",
    "print(\"Number of rows for USA:\", len(df_usa))\n",
    "df_usa.head()\n"
   ]
  },
  {
   "cell_type": "code",
   "execution_count": 88,
   "metadata": {},
   "outputs": [],
   "source": [
    "df_usa = df_usa.rename(columns={\n",
    "    \"C Government\": \"gov_conf\",        # Dependent variable\n",
    "    \"C Political parties\": \"party_conf\",\n",
    "    \"C Elections\": \"elect_conf\",\n",
    "    \"C Armed forces\": \"armed_conf\",\n",
    "    \"C Television\": \"tv_conf\",\n",
    "    \"C Police\": \"police_conf\",\n",
    "    \"C Courts\": \"courts_conf\",\n",
    "    \"C Civil services\": \"civil_conf\",\n",
    "    \"Importance of democracy\": \"demo_import\"\n",
    "})\n"
   ]
  },
  {
   "cell_type": "code",
   "execution_count": 89,
   "metadata": {},
   "outputs": [
    {
     "data": {
      "text/html": [
       "<div>\n",
       "<style scoped>\n",
       "    .dataframe tbody tr th:only-of-type {\n",
       "        vertical-align: middle;\n",
       "    }\n",
       "\n",
       "    .dataframe tbody tr th {\n",
       "        vertical-align: top;\n",
       "    }\n",
       "\n",
       "    .dataframe thead th {\n",
       "        text-align: right;\n",
       "    }\n",
       "</style>\n",
       "<table border=\"1\" class=\"dataframe\">\n",
       "  <thead>\n",
       "    <tr style=\"text-align: right;\">\n",
       "      <th></th>\n",
       "      <th>Country</th>\n",
       "      <th>Year</th>\n",
       "      <th>armed_conf</th>\n",
       "      <th>tv_conf</th>\n",
       "      <th>police_conf</th>\n",
       "      <th>courts_conf</th>\n",
       "      <th>gov_conf</th>\n",
       "      <th>party_conf</th>\n",
       "      <th>civil_conf</th>\n",
       "      <th>elect_conf</th>\n",
       "      <th>demo_import</th>\n",
       "    </tr>\n",
       "  </thead>\n",
       "  <tbody>\n",
       "    <tr>\n",
       "      <th>89769</th>\n",
       "      <td>840</td>\n",
       "      <td>2017</td>\n",
       "      <td>3</td>\n",
       "      <td>2</td>\n",
       "      <td>4</td>\n",
       "      <td>4</td>\n",
       "      <td>4</td>\n",
       "      <td>4</td>\n",
       "      <td>4</td>\n",
       "      <td>4</td>\n",
       "      <td>2</td>\n",
       "    </tr>\n",
       "    <tr>\n",
       "      <th>89770</th>\n",
       "      <td>840</td>\n",
       "      <td>2017</td>\n",
       "      <td>2</td>\n",
       "      <td>3</td>\n",
       "      <td>2</td>\n",
       "      <td>2</td>\n",
       "      <td>3</td>\n",
       "      <td>4</td>\n",
       "      <td>4</td>\n",
       "      <td>4</td>\n",
       "      <td>5</td>\n",
       "    </tr>\n",
       "    <tr>\n",
       "      <th>89771</th>\n",
       "      <td>840</td>\n",
       "      <td>2017</td>\n",
       "      <td>2</td>\n",
       "      <td>3</td>\n",
       "      <td>2</td>\n",
       "      <td>2</td>\n",
       "      <td>2</td>\n",
       "      <td>3</td>\n",
       "      <td>3</td>\n",
       "      <td>3</td>\n",
       "      <td>1</td>\n",
       "    </tr>\n",
       "    <tr>\n",
       "      <th>89772</th>\n",
       "      <td>840</td>\n",
       "      <td>2017</td>\n",
       "      <td>2</td>\n",
       "      <td>3</td>\n",
       "      <td>2</td>\n",
       "      <td>2</td>\n",
       "      <td>4</td>\n",
       "      <td>4</td>\n",
       "      <td>3</td>\n",
       "      <td>4</td>\n",
       "      <td>10</td>\n",
       "    </tr>\n",
       "    <tr>\n",
       "      <th>89773</th>\n",
       "      <td>840</td>\n",
       "      <td>2017</td>\n",
       "      <td>2</td>\n",
       "      <td>3</td>\n",
       "      <td>2</td>\n",
       "      <td>2</td>\n",
       "      <td>4</td>\n",
       "      <td>4</td>\n",
       "      <td>4</td>\n",
       "      <td>3</td>\n",
       "      <td>5</td>\n",
       "    </tr>\n",
       "  </tbody>\n",
       "</table>\n",
       "</div>"
      ],
      "text/plain": [
       "       Country  Year  armed_conf  tv_conf  police_conf  courts_conf  gov_conf  \\\n",
       "89769      840  2017           3        2            4            4         4   \n",
       "89770      840  2017           2        3            2            2         3   \n",
       "89771      840  2017           2        3            2            2         2   \n",
       "89772      840  2017           2        3            2            2         4   \n",
       "89773      840  2017           2        3            2            2         4   \n",
       "\n",
       "       party_conf  civil_conf  elect_conf  demo_import  \n",
       "89769           4           4           4            2  \n",
       "89770           4           4           4            5  \n",
       "89771           3           3           3            1  \n",
       "89772           4           3           4           10  \n",
       "89773           4           4           3            5  "
      ]
     },
     "execution_count": 89,
     "metadata": {},
     "output_type": "execute_result"
    }
   ],
   "source": [
    "df_usa.head()\n"
   ]
  },
  {
   "cell_type": "code",
   "execution_count": 90,
   "metadata": {},
   "outputs": [
    {
     "name": "stdout",
     "output_type": "stream",
     "text": [
      "Confidence in Government:\n",
      "gov_conf\n",
      "3    951\n",
      "4    753\n",
      "2    576\n",
      "1    178\n",
      "Name: count, dtype: int64\n",
      "\n",
      "Confidence in Political Parties:\n",
      "party_conf\n",
      "3    1560\n",
      "4     648\n",
      "2     215\n",
      "1      35\n",
      "Name: count, dtype: int64\n",
      "\n",
      "Importance of democracy:\n",
      "demo_import\n",
      "10    1209\n",
      "8      313\n",
      "5      297\n",
      "9      265\n",
      "7      146\n",
      "6      118\n",
      "4       43\n",
      "1       29\n",
      "3       22\n",
      "2       16\n",
      "Name: count, dtype: int64\n"
     ]
    }
   ],
   "source": [
    "# Confidence in Government\n",
    "print(\"Confidence in Government:\")\n",
    "print(df_usa[\"gov_conf\"].value_counts())\n",
    "\n",
    "# Confidence in Political Parties\n",
    "print(\"\\nConfidence in Political Parties:\")\n",
    "print(df_usa[\"party_conf\"].value_counts())\n",
    "\n",
    "# Importance of democracy\n",
    "print(\"\\nImportance of democracy:\")\n",
    "print(df_usa[\"demo_import\"].value_counts())\n"
   ]
  },
  {
   "cell_type": "code",
   "execution_count": 91,
   "metadata": {},
   "outputs": [
    {
     "name": "stdout",
     "output_type": "stream",
     "text": [
      "\n",
      "Mean of Confidence in Government (lower is more confident): 2.9271765663140763\n",
      "Median of Confidence in Government: 3.0\n"
     ]
    }
   ],
   "source": [
    "print(\"\\nMean of Confidence in Government (lower is more confident):\",\n",
    "      df_usa[\"gov_conf\"].mean())\n",
    "\n",
    "print(\"Median of Confidence in Government:\",\n",
    "      df_usa[\"gov_conf\"].median())\n"
   ]
  },
  {
   "cell_type": "code",
   "execution_count": 92,
   "metadata": {},
   "outputs": [
    {
     "name": "stdout",
     "output_type": "stream",
     "text": [
      "             gov_conf  party_conf  elect_conf  armed_conf   tv_conf  \\\n",
      "gov_conf     1.000000    0.352513    0.305359    0.433204 -0.000224   \n",
      "party_conf   0.352513    1.000000    0.375711    0.187305  0.327786   \n",
      "elect_conf   0.305359    0.375711    1.000000    0.244701  0.257505   \n",
      "armed_conf   0.433204    0.187305    0.244701    1.000000  0.137494   \n",
      "tv_conf     -0.000224    0.327786    0.257505    0.137494  1.000000   \n",
      "police_conf  0.440429    0.235989    0.330250    0.534585  0.160240   \n",
      "courts_conf  0.247854    0.284389    0.418273    0.307072  0.302309   \n",
      "civil_conf   0.174257    0.403489    0.430146    0.218449  0.289981   \n",
      "demo_import  0.047803    0.011657   -0.216867   -0.109208 -0.046396   \n",
      "\n",
      "             police_conf  courts_conf  civil_conf  demo_import  \n",
      "gov_conf        0.440429     0.247854    0.174257     0.047803  \n",
      "party_conf      0.235989     0.284389    0.403489     0.011657  \n",
      "elect_conf      0.330250     0.418273    0.430146    -0.216867  \n",
      "armed_conf      0.534585     0.307072    0.218449    -0.109208  \n",
      "tv_conf         0.160240     0.302309    0.289981    -0.046396  \n",
      "police_conf     1.000000     0.561168    0.292191    -0.146691  \n",
      "courts_conf     0.561168     1.000000    0.422249    -0.131144  \n",
      "civil_conf      0.292191     0.422249    1.000000    -0.134673  \n",
      "demo_import    -0.146691    -0.131144   -0.134673     1.000000  \n"
     ]
    },
    {
     "data": {
      "image/png": "[encoded data removed]",
      "text/plain": [
       "<Figure size 800x600 with 2 Axes>"
      ]
     },
     "metadata": {},
     "output_type": "display_data"
    }
   ],
   "source": [
    "# Subset the columns for correlation\n",
    "cols_of_interest = [\n",
    "    \"gov_conf\",\n",
    "    \"party_conf\",\n",
    "    \"elect_conf\",\n",
    "    \"armed_conf\",\n",
    "    \"tv_conf\",\n",
    "    \"police_conf\",\n",
    "    \"courts_conf\",\n",
    "    \"civil_conf\",\n",
    "    \"demo_import\",\n",
    "]\n",
    "\n",
    "corr_matrix = df_usa[cols_of_interest].corr(method=\"spearman\")\n",
    "print(corr_matrix)\n",
    "\n",
    "# Optional: visualize with a heatmap\n",
    "plt.figure(figsize=(8, 6))\n",
    "sns.heatmap(corr_matrix, annot=True, cmap=\"coolwarm\", vmin=-1, vmax=1)\n",
    "plt.title(\"Spearman Correlation - USA subset\")\n",
    "plt.show()\n"
   ]
  },
  {
   "cell_type": "code",
   "execution_count": 93,
   "metadata": {},
   "outputs": [
    {
     "name": "stdout",
     "output_type": "stream",
     "text": [
      "                            OLS Regression Results                            \n",
      "==============================================================================\n",
      "Dep. Variable:               gov_conf   R-squared:                       0.362\n",
      "Model:                            OLS   Adj. R-squared:                  0.360\n",
      "Method:                 Least Squares   F-statistic:                     173.6\n",
      "Date:                Thu, 23 Jan 2025   Prob (F-statistic):          1.67e-232\n",
      "Time:                        18:16:41   Log-Likelihood:                -2699.2\n",
      "No. Observations:                2458   AIC:                             5416.\n",
      "Df Residuals:                    2449   BIC:                             5469.\n",
      "Df Model:                           8                                         \n",
      "Covariance Type:            nonrobust                                         \n",
      "===============================================================================\n",
      "                  coef    std err          t      P>|t|      [0.025      0.975]\n",
      "-------------------------------------------------------------------------------\n",
      "Intercept       0.4949      0.113      4.380      0.000       0.273       0.716\n",
      "party_conf      0.3988      0.028     14.340      0.000       0.344       0.453\n",
      "elect_conf      0.1837      0.023      8.158      0.000       0.140       0.228\n",
      "armed_conf      0.3061      0.023     13.255      0.000       0.261       0.351\n",
      "tv_conf        -0.2212      0.024     -9.332      0.000      -0.268      -0.175\n",
      "police_conf     0.3092      0.025     12.187      0.000       0.259       0.359\n",
      "courts_conf    -0.0577      0.026     -2.249      0.025      -0.108      -0.007\n",
      "civil_conf     -0.0779      0.025     -3.103      0.002      -0.127      -0.029\n",
      "demo_import     0.0502      0.007      7.037      0.000       0.036       0.064\n",
      "==============================================================================\n",
      "Omnibus:                        6.724   Durbin-Watson:                   1.939\n",
      "Prob(Omnibus):                  0.035   Jarque-Bera (JB):                6.655\n",
      "Skew:                          -0.120   Prob(JB):                       0.0359\n",
      "Kurtosis:                       3.086   Cond. No.                         85.1\n",
      "==============================================================================\n",
      "\n",
      "Notes:\n",
      "[1] Standard Errors assume that the covariance matrix of the errors is correctly specified.\n"
     ]
    }
   ],
   "source": [
    "import statsmodels.formula.api as smf\n",
    "\n",
    "# Define the formula: gov_conf ~ all other columns\n",
    "formula_all = (\n",
    "    \"gov_conf ~ party_conf + elect_conf + armed_conf + tv_conf \"\n",
    "    \"+ police_conf + courts_conf + civil_conf + demo_import\"\n",
    ")\n",
    "\n",
    "model_all = smf.ols(formula_all, data=df_usa).fit()\n",
    "print(model_all.summary())\n"
   ]
  },
  {
   "cell_type": "markdown",
   "metadata": {},
   "source": [
    "### Q2. How does trust in political institutions compare across countries?"
   ]
  },
  {
   "cell_type": "code",
   "execution_count": 94,
   "metadata": {},
   "outputs": [],
   "source": [
    "wave7_csv = \"data/preprocessed/filtered_wave_7.csv\"\n",
    "wave7_q2 = pd.read_csv(wave7_csv, low_memory=False)"
   ]
  },
  {
   "cell_type": "markdown",
   "metadata": {},
   "source": [
    "### Q3. How has trust in political institutions evolved from 2017 to 2022 and over the entire time span?"
   ]
  },
  {
   "cell_type": "code",
   "execution_count": null,
   "metadata": {},
   "outputs": [],
   "source": []
  },
  {
   "cell_type": "markdown",
   "metadata": {},
   "source": [
    "### BONUS"
   ]
  },
  {
   "cell_type": "code",
   "execution_count": null,
   "metadata": {},
   "outputs": [],
   "source": []
  }
 ],
 "metadata": {
  "kernelspec": {
   "display_name": ".venv",
   "language": "python",
   "name": "python3"
  },
  "language_info": {
   "codemirror_mode": {
    "name": "ipython",
    "version": 3
   },
   "file_extension": ".py",
   "mimetype": "text/x-python",
   "name": "python",
   "nbconvert_exporter": "python",
   "pygments_lexer": "ipython3",
   "version": "3.12.6"
  }
 },
 "nbformat": 4,
 "nbformat_minor": 2
}
