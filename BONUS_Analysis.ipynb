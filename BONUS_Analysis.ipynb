{
 "cells": [
  {
   "cell_type": "code",
   "execution_count": 141,
   "metadata": {},
   "outputs": [],
   "source": [
    "import pandas as pd\n",
    "import numpy as np\n",
    "from sklearn.preprocessing import StandardScaler, OneHotEncoder\n",
    "from sklearn.decomposition import PCA\n",
    "from sklearn.cluster import KMeans\n",
    "import matplotlib.pyplot as plt\n",
    "import seaborn as sns\n",
    "from sklearn.preprocessing import StandardScaler, LabelEncoder\n",
    "from prince import MCA  # Multiple Correspondence Analysis for categorical data\n",
    "from kmodes.kprototypes import KPrototypes  # Best for mixed data clustering\n",
    "from sklearn.metrics import silhouette_score\n",
    "from tqdm import tqdm"
   ]
  },
  {
   "cell_type": "code",
   "execution_count": 142,
   "metadata": {},
   "outputs": [
    {
     "data": {
      "text/html": [
       "<div>\n",
       "<style scoped>\n",
       "    .dataframe tbody tr th:only-of-type {\n",
       "        vertical-align: middle;\n",
       "    }\n",
       "\n",
       "    .dataframe tbody tr th {\n",
       "        vertical-align: top;\n",
       "    }\n",
       "\n",
       "    .dataframe thead th {\n",
       "        text-align: right;\n",
       "    }\n",
       "</style>\n",
       "<table border=\"1\" class=\"dataframe\">\n",
       "  <thead>\n",
       "    <tr style=\"text-align: right;\">\n",
       "      <th></th>\n",
       "      <th>Country</th>\n",
       "      <th>C Television</th>\n",
       "      <th>C Police</th>\n",
       "      <th>C Courts</th>\n",
       "      <th>C Government</th>\n",
       "      <th>C Political parties</th>\n",
       "      <th>C Civil services</th>\n",
       "      <th>C Elections</th>\n",
       "      <th>Importance of democracy</th>\n",
       "      <th>Highest educational level</th>\n",
       "      <th>Age</th>\n",
       "      <th>Scale of incomes</th>\n",
       "      <th>Sex</th>\n",
       "      <th>Strong Leader</th>\n",
       "      <th>Expert Non Govt Person</th>\n",
       "      <th>Signing a petition</th>\n",
       "      <th>Joining unofficial strikes</th>\n",
       "    </tr>\n",
       "  </thead>\n",
       "  <tbody>\n",
       "    <tr>\n",
       "      <th>0</th>\n",
       "      <td>20</td>\n",
       "      <td>1.0</td>\n",
       "      <td>1.0</td>\n",
       "      <td>1.0</td>\n",
       "      <td>1.0</td>\n",
       "      <td>1.0</td>\n",
       "      <td>1.0</td>\n",
       "      <td>1.0</td>\n",
       "      <td>8.0</td>\n",
       "      <td>3.0</td>\n",
       "      <td>60.0</td>\n",
       "      <td>5.0</td>\n",
       "      <td>2.0</td>\n",
       "      <td>4.0</td>\n",
       "      <td>4.0</td>\n",
       "      <td>2.0</td>\n",
       "      <td>3.0</td>\n",
       "    </tr>\n",
       "    <tr>\n",
       "      <th>1</th>\n",
       "      <td>20</td>\n",
       "      <td>3.0</td>\n",
       "      <td>3.0</td>\n",
       "      <td>3.0</td>\n",
       "      <td>4.0</td>\n",
       "      <td>4.0</td>\n",
       "      <td>3.0</td>\n",
       "      <td>3.0</td>\n",
       "      <td>10.0</td>\n",
       "      <td>7.0</td>\n",
       "      <td>47.0</td>\n",
       "      <td>9.0</td>\n",
       "      <td>1.0</td>\n",
       "      <td>4.0</td>\n",
       "      <td>4.0</td>\n",
       "      <td>1.0</td>\n",
       "      <td>2.0</td>\n",
       "    </tr>\n",
       "    <tr>\n",
       "      <th>2</th>\n",
       "      <td>20</td>\n",
       "      <td>4.0</td>\n",
       "      <td>2.0</td>\n",
       "      <td>2.0</td>\n",
       "      <td>3.0</td>\n",
       "      <td>3.0</td>\n",
       "      <td>3.0</td>\n",
       "      <td>3.0</td>\n",
       "      <td>10.0</td>\n",
       "      <td>7.0</td>\n",
       "      <td>48.0</td>\n",
       "      <td>5.0</td>\n",
       "      <td>1.0</td>\n",
       "      <td>4.0</td>\n",
       "      <td>2.0</td>\n",
       "      <td>1.0</td>\n",
       "      <td>2.0</td>\n",
       "    </tr>\n",
       "    <tr>\n",
       "      <th>3</th>\n",
       "      <td>20</td>\n",
       "      <td>3.0</td>\n",
       "      <td>3.0</td>\n",
       "      <td>3.0</td>\n",
       "      <td>3.0</td>\n",
       "      <td>3.0</td>\n",
       "      <td>3.0</td>\n",
       "      <td>3.0</td>\n",
       "      <td>7.0</td>\n",
       "      <td>2.0</td>\n",
       "      <td>62.0</td>\n",
       "      <td>4.0</td>\n",
       "      <td>2.0</td>\n",
       "      <td>3.0</td>\n",
       "      <td>2.0</td>\n",
       "      <td>2.0</td>\n",
       "      <td>2.0</td>\n",
       "    </tr>\n",
       "    <tr>\n",
       "      <th>4</th>\n",
       "      <td>20</td>\n",
       "      <td>3.0</td>\n",
       "      <td>2.0</td>\n",
       "      <td>2.0</td>\n",
       "      <td>2.0</td>\n",
       "      <td>3.0</td>\n",
       "      <td>3.0</td>\n",
       "      <td>3.0</td>\n",
       "      <td>8.0</td>\n",
       "      <td>2.0</td>\n",
       "      <td>49.0</td>\n",
       "      <td>4.0</td>\n",
       "      <td>1.0</td>\n",
       "      <td>3.0</td>\n",
       "      <td>3.0</td>\n",
       "      <td>1.0</td>\n",
       "      <td>1.0</td>\n",
       "    </tr>\n",
       "  </tbody>\n",
       "</table>\n",
       "</div>"
      ],
      "text/plain": [
       "   Country  C Television  C Police  C Courts  C Government  \\\n",
       "0       20           1.0       1.0       1.0           1.0   \n",
       "1       20           3.0       3.0       3.0           4.0   \n",
       "2       20           4.0       2.0       2.0           3.0   \n",
       "3       20           3.0       3.0       3.0           3.0   \n",
       "4       20           3.0       2.0       2.0           2.0   \n",
       "\n",
       "   C Political parties  C Civil services  C Elections  \\\n",
       "0                  1.0               1.0          1.0   \n",
       "1                  4.0               3.0          3.0   \n",
       "2                  3.0               3.0          3.0   \n",
       "3                  3.0               3.0          3.0   \n",
       "4                  3.0               3.0          3.0   \n",
       "\n",
       "   Importance of democracy  Highest educational level   Age  Scale of incomes  \\\n",
       "0                      8.0                        3.0  60.0               5.0   \n",
       "1                     10.0                        7.0  47.0               9.0   \n",
       "2                     10.0                        7.0  48.0               5.0   \n",
       "3                      7.0                        2.0  62.0               4.0   \n",
       "4                      8.0                        2.0  49.0               4.0   \n",
       "\n",
       "   Sex  Strong Leader  Expert Non Govt Person  Signing a petition  \\\n",
       "0  2.0            4.0                     4.0                 2.0   \n",
       "1  1.0            4.0                     4.0                 1.0   \n",
       "2  1.0            4.0                     2.0                 1.0   \n",
       "3  2.0            3.0                     2.0                 2.0   \n",
       "4  1.0            3.0                     3.0                 1.0   \n",
       "\n",
       "   Joining unofficial strikes  \n",
       "0                         3.0  \n",
       "1                         2.0  \n",
       "2                         2.0  \n",
       "3                         2.0  \n",
       "4                         1.0  "
      ]
     },
     "execution_count": 142,
     "metadata": {},
     "output_type": "execute_result"
    }
   ],
   "source": [
    "# Load data\n",
    "wave7_csv = \"data/preprocessed/cleaned_wave_7_rq2.csv\"\n",
    "df = pd.read_csv(wave7_csv, low_memory=False)\n",
    "df.head()"
   ]
  },
  {
   "cell_type": "code",
   "execution_count": 143,
   "metadata": {},
   "outputs": [
    {
     "name": "stdout",
     "output_type": "stream",
     "text": [
      "Country\n",
      "C Television\n",
      "C Police\n",
      "C Courts\n",
      "C Government\n",
      "C Political parties\n",
      "C Civil services\n",
      "C Elections\n",
      "Importance of democracy\n",
      "Highest educational level\n",
      "Age\n",
      "Scale of incomes\n",
      "Sex\n",
      "Strong Leader\n",
      "Expert Non Govt Person\n",
      "Signing a petition\n",
      "Joining unofficial strikes\n"
     ]
    }
   ],
   "source": [
    "for col in df.columns:\n",
    "    print(col)"
   ]
  },
  {
   "cell_type": "code",
   "execution_count": 144,
   "metadata": {},
   "outputs": [
    {
     "name": "stdout",
     "output_type": "stream",
     "text": [
      "Country\n",
      "124    4018\n",
      "360    3200\n",
      "156    3036\n",
      "826    2609\n",
      "840    2596\n",
      "       ... \n",
      "32     1003\n",
      "858    1000\n",
      "152    1000\n",
      "196    1000\n",
      "909     447\n",
      "Name: count, Length: 66, dtype: int64\n"
     ]
    }
   ],
   "source": [
    "print(df[\"Country\"].value_counts())"
   ]
  },
  {
   "cell_type": "code",
   "execution_count": 145,
   "metadata": {},
   "outputs": [
    {
     "name": "stdout",
     "output_type": "stream",
     "text": [
      "['Canada' 'Germany' 'UK' 'Japan' 'Russia' 'USA']\n"
     ]
    }
   ],
   "source": [
    "# Define G8 country mapping\n",
    "country_map = {\n",
    "    840: \"USA\", 124: \"Canada\", 250: \"France\", 276: \"Germany\",\n",
    "    380: \"Italy\", 392: \"Japan\", 643: \"Russia\", 826: \"UK\"\n",
    "}\n",
    "\n",
    "# Filter dataset for G8 countries\n",
    "df_g8 = df[df[\"Country\"].isin(country_map.keys())].copy()\n",
    "\n",
    "# Map country codes to country names\n",
    "df_g8[\"Country\"] = df_g8[\"Country\"].map(country_map)\n",
    "\n",
    "# Verify data after filtering\n",
    "print(df_g8[\"Country\"].unique())"
   ]
  },
  {
   "cell_type": "code",
   "execution_count": 146,
   "metadata": {},
   "outputs": [
    {
     "name": "stdout",
     "output_type": "stream",
     "text": [
      "Country\n",
      "Canada     4018\n",
      "UK         2609\n",
      "USA        2596\n",
      "Russia     1810\n",
      "Germany    1528\n",
      "Japan      1353\n",
      "Name: count, dtype: int64\n"
     ]
    }
   ],
   "source": [
    "print(df_g8[\"Country\"].value_counts())"
   ]
  },
  {
   "cell_type": "code",
   "execution_count": 147,
   "metadata": {},
   "outputs": [
    {
     "data": {
      "text/html": [
       "<div>\n",
       "<style scoped>\n",
       "    .dataframe tbody tr th:only-of-type {\n",
       "        vertical-align: middle;\n",
       "    }\n",
       "\n",
       "    .dataframe tbody tr th {\n",
       "        vertical-align: top;\n",
       "    }\n",
       "\n",
       "    .dataframe thead th {\n",
       "        text-align: right;\n",
       "    }\n",
       "</style>\n",
       "<table border=\"1\" class=\"dataframe\">\n",
       "  <thead>\n",
       "    <tr style=\"text-align: right;\">\n",
       "      <th></th>\n",
       "      <th>Country</th>\n",
       "      <th>C Television</th>\n",
       "      <th>C Police</th>\n",
       "      <th>C Courts</th>\n",
       "      <th>C Government</th>\n",
       "      <th>C Political parties</th>\n",
       "      <th>C Civil services</th>\n",
       "      <th>C Elections</th>\n",
       "      <th>Importance of democracy</th>\n",
       "      <th>Highest educational level</th>\n",
       "      <th>Age</th>\n",
       "      <th>Scale of incomes</th>\n",
       "      <th>Sex</th>\n",
       "      <th>Strong Leader</th>\n",
       "      <th>Expert Non Govt Person</th>\n",
       "      <th>Signing a petition</th>\n",
       "      <th>Joining unofficial strikes</th>\n",
       "    </tr>\n",
       "  </thead>\n",
       "  <tbody>\n",
       "    <tr>\n",
       "      <th>10072</th>\n",
       "      <td>Canada</td>\n",
       "      <td>3.0</td>\n",
       "      <td>2.0</td>\n",
       "      <td>3.0</td>\n",
       "      <td>2.0</td>\n",
       "      <td>3.0</td>\n",
       "      <td>2.0</td>\n",
       "      <td>2.0</td>\n",
       "      <td>10.0</td>\n",
       "      <td>7.0</td>\n",
       "      <td>76.0</td>\n",
       "      <td>9.0</td>\n",
       "      <td>2.0</td>\n",
       "      <td>4.0</td>\n",
       "      <td>3.0</td>\n",
       "      <td>1.0</td>\n",
       "      <td>2.0</td>\n",
       "    </tr>\n",
       "    <tr>\n",
       "      <th>10073</th>\n",
       "      <td>Canada</td>\n",
       "      <td>2.0</td>\n",
       "      <td>2.0</td>\n",
       "      <td>2.0</td>\n",
       "      <td>1.0</td>\n",
       "      <td>3.0</td>\n",
       "      <td>2.0</td>\n",
       "      <td>1.0</td>\n",
       "      <td>10.0</td>\n",
       "      <td>6.0</td>\n",
       "      <td>69.0</td>\n",
       "      <td>3.0</td>\n",
       "      <td>1.0</td>\n",
       "      <td>4.0</td>\n",
       "      <td>2.0</td>\n",
       "      <td>1.0</td>\n",
       "      <td>1.0</td>\n",
       "    </tr>\n",
       "    <tr>\n",
       "      <th>10074</th>\n",
       "      <td>Canada</td>\n",
       "      <td>3.0</td>\n",
       "      <td>3.0</td>\n",
       "      <td>3.0</td>\n",
       "      <td>3.0</td>\n",
       "      <td>3.0</td>\n",
       "      <td>3.0</td>\n",
       "      <td>3.0</td>\n",
       "      <td>5.0</td>\n",
       "      <td>3.0</td>\n",
       "      <td>35.0</td>\n",
       "      <td>3.0</td>\n",
       "      <td>2.0</td>\n",
       "      <td>2.0</td>\n",
       "      <td>2.0</td>\n",
       "      <td>3.0</td>\n",
       "      <td>3.0</td>\n",
       "    </tr>\n",
       "    <tr>\n",
       "      <th>10075</th>\n",
       "      <td>Canada</td>\n",
       "      <td>3.0</td>\n",
       "      <td>2.0</td>\n",
       "      <td>3.0</td>\n",
       "      <td>3.0</td>\n",
       "      <td>3.0</td>\n",
       "      <td>3.0</td>\n",
       "      <td>2.0</td>\n",
       "      <td>8.0</td>\n",
       "      <td>7.0</td>\n",
       "      <td>45.0</td>\n",
       "      <td>7.0</td>\n",
       "      <td>1.0</td>\n",
       "      <td>3.0</td>\n",
       "      <td>2.0</td>\n",
       "      <td>2.0</td>\n",
       "      <td>3.0</td>\n",
       "    </tr>\n",
       "    <tr>\n",
       "      <th>10076</th>\n",
       "      <td>Canada</td>\n",
       "      <td>3.0</td>\n",
       "      <td>2.0</td>\n",
       "      <td>4.0</td>\n",
       "      <td>4.0</td>\n",
       "      <td>4.0</td>\n",
       "      <td>3.0</td>\n",
       "      <td>3.0</td>\n",
       "      <td>10.0</td>\n",
       "      <td>6.0</td>\n",
       "      <td>32.0</td>\n",
       "      <td>5.0</td>\n",
       "      <td>1.0</td>\n",
       "      <td>4.0</td>\n",
       "      <td>3.0</td>\n",
       "      <td>1.0</td>\n",
       "      <td>1.0</td>\n",
       "    </tr>\n",
       "  </tbody>\n",
       "</table>\n",
       "</div>"
      ],
      "text/plain": [
       "      Country  C Television  C Police  C Courts  C Government  \\\n",
       "10072  Canada           3.0       2.0       3.0           2.0   \n",
       "10073  Canada           2.0       2.0       2.0           1.0   \n",
       "10074  Canada           3.0       3.0       3.0           3.0   \n",
       "10075  Canada           3.0       2.0       3.0           3.0   \n",
       "10076  Canada           3.0       2.0       4.0           4.0   \n",
       "\n",
       "       C Political parties  C Civil services  C Elections  \\\n",
       "10072                  3.0               2.0          2.0   \n",
       "10073                  3.0               2.0          1.0   \n",
       "10074                  3.0               3.0          3.0   \n",
       "10075                  3.0               3.0          2.0   \n",
       "10076                  4.0               3.0          3.0   \n",
       "\n",
       "       Importance of democracy  Highest educational level   Age  \\\n",
       "10072                     10.0                        7.0  76.0   \n",
       "10073                     10.0                        6.0  69.0   \n",
       "10074                      5.0                        3.0  35.0   \n",
       "10075                      8.0                        7.0  45.0   \n",
       "10076                     10.0                        6.0  32.0   \n",
       "\n",
       "       Scale of incomes  Sex  Strong Leader  Expert Non Govt Person  \\\n",
       "10072               9.0  2.0            4.0                     3.0   \n",
       "10073               3.0  1.0            4.0                     2.0   \n",
       "10074               3.0  2.0            2.0                     2.0   \n",
       "10075               7.0  1.0            3.0                     2.0   \n",
       "10076               5.0  1.0            4.0                     3.0   \n",
       "\n",
       "       Signing a petition  Joining unofficial strikes  \n",
       "10072                 1.0                         2.0  \n",
       "10073                 1.0                         1.0  \n",
       "10074                 3.0                         3.0  \n",
       "10075                 2.0                         3.0  \n",
       "10076                 1.0                         1.0  "
      ]
     },
     "execution_count": 147,
     "metadata": {},
     "output_type": "execute_result"
    }
   ],
   "source": [
    "df_g8.head()"
   ]
  },
  {
   "cell_type": "code",
   "execution_count": 148,
   "metadata": {},
   "outputs": [
    {
     "name": "stdout",
     "output_type": "stream",
     "text": [
      "Columns with Negative Values and Their Counts:\n",
      " Series([], dtype: int64)\n"
     ]
    }
   ],
   "source": [
    "# Ensure numeric columns only (exclude 'Country')\n",
    "numeric_columns = df_g8.select_dtypes(include=[np.number]).columns\n",
    "\n",
    "# Find negative values in numeric columns\n",
    "negative_values = (df_g8[numeric_columns] < 0).sum()\n",
    "\n",
    "# Display columns with negative values\n",
    "print(\"Columns with Negative Values and Their Counts:\\n\", negative_values[negative_values > 0])\n"
   ]
  },
  {
   "cell_type": "code",
   "execution_count": 149,
   "metadata": {},
   "outputs": [
    {
     "name": "stdout",
     "output_type": "stream",
     "text": [
      "Missing Values:\n",
      " C Television                  181\n",
      "C Police                      154\n",
      "C Courts                      418\n",
      "C Government                  271\n",
      "C Political parties           445\n",
      "C Civil services              510\n",
      "C Elections                   367\n",
      "Importance of democracy       350\n",
      "Highest educational level     254\n",
      "Age                           140\n",
      "Scale of incomes              771\n",
      "Sex                            33\n",
      "Strong Leader                 713\n",
      "Expert Non Govt Person        893\n",
      "Signing a petition            297\n",
      "Joining unofficial strikes    561\n",
      "dtype: int64\n"
     ]
    }
   ],
   "source": [
    "missing_values = df_g8.isnull().sum()\n",
    "print(\"Missing Values:\\n\", missing_values[missing_values > 0])"
   ]
  },
  {
   "cell_type": "code",
   "execution_count": 150,
   "metadata": {},
   "outputs": [],
   "source": [
    "# Impute ordinal variables with mode (most frequent value)\n",
    "ordinal_cols = [\"C Television\", \"C Police\", \"C Courts\", \"C Government\", \n",
    "                \"C Political parties\", \"C Civil services\", \"C Elections\", \n",
    "                \"Importance of democracy\", \"Scale of incomes\", \n",
    "                \"Strong Leader\", \"Expert Non Govt Person\"]\n",
    "\n",
    "for col in ordinal_cols:\n",
    "    df_g8[col] = df_g8[col].fillna(df_g8[col].mode()[0])"
   ]
  },
  {
   "cell_type": "code",
   "execution_count": 151,
   "metadata": {},
   "outputs": [],
   "source": [
    "# Impute Age with median\n",
    "df_g8[\"Age\"] = df_g8[\"Age\"].fillna(df_g8[\"Age\"].median())"
   ]
  },
  {
   "cell_type": "code",
   "execution_count": 152,
   "metadata": {},
   "outputs": [],
   "source": [
    "# Impute categorical variables with mode\n",
    "categorical_cols = [\"Highest educational level\", \"Sex\", \"Signing a petition\", \"Joining unofficial strikes\"]\n",
    "\n",
    "for col in categorical_cols:\n",
    "    df_g8[col] = df_g8[col].fillna(df_g8[col].mode()[0])"
   ]
  },
  {
   "cell_type": "code",
   "execution_count": 153,
   "metadata": {},
   "outputs": [],
   "source": [
    "# Drop variables with >50% missing values\n",
    "df_g8.drop(columns=[\"Strong Leader\", \"Expert Non Govt Person\", \"Country\"], inplace=True)"
   ]
  },
  {
   "cell_type": "code",
   "execution_count": 154,
   "metadata": {},
   "outputs": [
    {
     "name": "stdout",
     "output_type": "stream",
     "text": [
      "Remaining Missing Values:\n",
      " C Television                  0\n",
      "C Police                      0\n",
      "C Courts                      0\n",
      "C Government                  0\n",
      "C Political parties           0\n",
      "C Civil services              0\n",
      "C Elections                   0\n",
      "Importance of democracy       0\n",
      "Highest educational level     0\n",
      "Age                           0\n",
      "Scale of incomes              0\n",
      "Sex                           0\n",
      "Signing a petition            0\n",
      "Joining unofficial strikes    0\n",
      "dtype: int64\n"
     ]
    }
   ],
   "source": [
    "print(\"Remaining Missing Values:\\n\", df_g8.isnull().sum())"
   ]
  },
  {
   "cell_type": "code",
   "execution_count": 155,
   "metadata": {},
   "outputs": [
    {
     "name": "stdout",
     "output_type": "stream",
     "text": [
      "C Television\n",
      "C Police\n",
      "C Courts\n",
      "C Government\n",
      "C Political parties\n",
      "C Civil services\n",
      "C Elections\n",
      "Importance of democracy\n",
      "Highest educational level\n",
      "Age\n",
      "Scale of incomes\n",
      "Sex\n",
      "Signing a petition\n",
      "Joining unofficial strikes\n"
     ]
    }
   ],
   "source": [
    "for col in df_g8.columns:\n",
    "    print(col)"
   ]
  },
  {
   "cell_type": "code",
   "execution_count": 156,
   "metadata": {},
   "outputs": [
    {
     "name": "stdout",
     "output_type": "stream",
     "text": [
      "🚀 Computing Gower’s Distance Matrix...\n"
     ]
    },
    {
     "name": "stderr",
     "output_type": "stream",
     "text": [
      "Gower Distance Calculation: 100%|██████████| 13914/13914 [07:03<00:00, 32.83it/s]"
     ]
    },
    {
     "name": "stdout",
     "output_type": "stream",
     "text": [
      "✅ Gower’s Distance Computed! Shape: (13914, 13914)\n"
     ]
    },
    {
     "name": "stderr",
     "output_type": "stream",
     "text": [
      "\n"
     ]
    }
   ],
   "source": [
    "from sklearn.cluster import AgglomerativeClustering\n",
    "from gower import gower_matrix\n",
    "\n",
    "# ✅ Step 1: Define Variable Types\n",
    "ordinal_columns = [\n",
    "    \"C Television\", \"C Police\", \"C Courts\", \"C Government\",\n",
    "    \"C Political parties\", \"C Civil services\", \"C Elections\",\n",
    "    \"Importance of democracy\", \"Scale of incomes\"\n",
    "]\n",
    "\n",
    "categorical_columns = [\n",
    "    \"Highest educational level\", \"Sex\", \"Signing a petition\", \"Joining unofficial strikes\"\n",
    "]\n",
    "\n",
    "continuous_columns = [\"Age\"]\n",
    "\n",
    "# ✅ Step 2: Convert Ordinal Variables Properly\n",
    "for col in ordinal_columns:\n",
    "    df_g8[col] = pd.Categorical(df_g8[col], ordered=True).codes  # Convert to integer levels\n",
    "\n",
    "# ✅ Step 3: Convert Categorical Variables using One-Hot Encoding\n",
    "df_g8 = pd.get_dummies(df_g8, columns=categorical_columns, drop_first=True)\n",
    "\n",
    "# ✅ Step 4: Compute Gower’s Distance Matrix with tqdm\n",
    "print(\"🚀 Computing Gower’s Distance Matrix...\")\n",
    "with tqdm(total=df_g8.shape[0], desc=\"Gower Distance Calculation\") as pbar:\n",
    "    gower_dist = gower_matrix(df_g8)\n",
    "    pbar.update(df_g8.shape[0])  # Update progress bar\n",
    "\n",
    "print(\"✅ Gower’s Distance Computed! Shape:\", gower_dist.shape)"
   ]
  },
  {
   "cell_type": "code",
   "execution_count": 157,
   "metadata": {},
   "outputs": [
    {
     "name": "stdout",
     "output_type": "stream",
     "text": [
      "🚀 Applying Hierarchical Clustering...\n",
      "✅ Clustering Completed. Cluster Counts:\n",
      " Cluster\n",
      "1    13868\n",
      "0       43\n",
      "2        3\n",
      "Name: count, dtype: int64\n"
     ]
    },
    {
     "data": {
      "image/png": "[encoded data removed]",
      "text/plain": [
       "<Figure size 1000x600 with 1 Axes>"
      ]
     },
     "metadata": {},
     "output_type": "display_data"
    },
    {
     "name": "stdout",
     "output_type": "stream",
     "text": [
      "✅ Clustering Results Saved!\n"
     ]
    }
   ],
   "source": [
    "# ✅ Step 5: Apply Hierarchical Clustering (Agglomerative)\n",
    "print(\"🚀 Applying Hierarchical Clustering...\")\n",
    "\n",
    "num_clusters = 3  # Adjust based on dendrogram\n",
    "hac = AgglomerativeClustering(n_clusters=num_clusters, metric=\"precomputed\", linkage=\"average\")\n",
    "df_g8[\"Cluster\"] = hac.fit_predict(gower_dist)\n",
    "\n",
    "print(\"✅ Clustering Completed. Cluster Counts:\\n\", df_g8[\"Cluster\"].value_counts())\n",
    "\n",
    "# ✅ Step 6: Visualizing Clusters\n",
    "plt.figure(figsize=(10, 6))\n",
    "sns.histplot(df_g8[\"Cluster\"], bins=num_clusters, discrete=True)\n",
    "plt.title(\"Distribution of Clusters (Hierarchical Clustering with Gower’s Distance)\")\n",
    "plt.xlabel(\"Cluster Label\")\n",
    "plt.ylabel(\"Number of Respondents\")\n",
    "plt.show()\n",
    "\n",
    "# ✅ Save Clustered Data\n",
    "df_g8.to_csv(\"data/preprocessed/clustered_rq4_gower.csv\", index=False)\n",
    "print(\"✅ Clustering Results Saved!\")"
   ]
  }
 ],
 "metadata": {
  "kernelspec": {
   "display_name": "WVS",
   "language": "python",
   "name": "python3"
  },
  "language_info": {
   "codemirror_mode": {
    "name": "ipython",
    "version": 3
   },
   "file_extension": ".py",
   "mimetype": "text/x-python",
   "name": "python",
   "nbconvert_exporter": "python",
   "pygments_lexer": "ipython3",
   "version": "3.12.0"
  }
 },
 "nbformat": 4,
 "nbformat_minor": 2
}
